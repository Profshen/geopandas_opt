{
 "cells": [
  {
   "cell_type": "markdown",
   "metadata": {},
   "source": [
    "# Faster method\n",
    "\n",
    "Author: Geoff Boeing\n",
    "\n",
    "For each spatial geometry, this notebook sums the values of every spatial geometry within 500m."
   ]
  },
  {
   "cell_type": "code",
   "execution_count": 1,
   "metadata": {
    "collapsed": true
   },
   "outputs": [],
   "source": [
    "import sys, csv, time\n",
    "import pandas as pd\n",
    "import geopandas as gpd\n",
    "from shapely.wkt import loads"
   ]
  },
  {
   "cell_type": "code",
   "execution_count": 2,
   "metadata": {
    "collapsed": false
   },
   "outputs": [],
   "source": [
    "# monitor performance\n",
    "start_time = time.time()\n",
    "def log(message):\n",
    "    global start_time\n",
    "    print('{:,.3f}s: {}'.format(time.time()-start_time, message))\n",
    "    start_time = time.time()"
   ]
  },
  {
   "cell_type": "markdown",
   "metadata": {},
   "source": [
    "## 1) Load and format the data"
   ]
  },
  {
   "cell_type": "code",
   "execution_count": 3,
   "metadata": {
    "collapsed": false
   },
   "outputs": [
    {
     "name": "stdout",
     "output_type": "stream",
     "text": [
      "0.227s: loaded csv\n"
     ]
    }
   ],
   "source": [
    "filepath = './example_geometries.csv'\n",
    "crs = {'init': 'epsg:32154'}\n",
    "df = pd.read_csv(filepath)\n",
    "log('loaded csv')"
   ]
  },
  {
   "cell_type": "code",
   "execution_count": 4,
   "metadata": {
    "collapsed": false
   },
   "outputs": [
    {
     "name": "stdout",
     "output_type": "stream",
     "text": [
      "1.141s: created geometry\n"
     ]
    }
   ],
   "source": [
    "# create a geometry geoseries from the wkt\n",
    "geometry = gpd.GeoSeries(df['geometry'].map(lambda x: loads(x)))\n",
    "log('created geometry')"
   ]
  },
  {
   "cell_type": "code",
   "execution_count": 5,
   "metadata": {
    "collapsed": false
   },
   "outputs": [
    {
     "name": "stdout",
     "output_type": "stream",
     "text": [
      "0.021s: converted df to gdf\n"
     ]
    }
   ],
   "source": [
    "gdf = gpd.GeoDataFrame(data=df[['id', 'value']], crs=crs, geometry=geometry)\n",
    "gdf = gdf.set_index('id')\n",
    "log('converted df to gdf')"
   ]
  },
  {
   "cell_type": "markdown",
   "metadata": {},
   "source": [
    "## 2) Create spatial index and buffer the geometry"
   ]
  },
  {
   "cell_type": "code",
   "execution_count": 6,
   "metadata": {
    "collapsed": false
   },
   "outputs": [
    {
     "name": "stdout",
     "output_type": "stream",
     "text": [
      "2.603s: created spatial index\n"
     ]
    }
   ],
   "source": [
    "sidx = gdf.sindex\n",
    "log('created spatial index')"
   ]
  },
  {
   "cell_type": "code",
   "execution_count": 7,
   "metadata": {
    "collapsed": false
   },
   "outputs": [
    {
     "name": "stdout",
     "output_type": "stream",
     "text": [
      "4.953s: buffered geometries\n"
     ]
    }
   ],
   "source": [
    "# projection is in meters, buffer itself is unit agnostic\n",
    "gdf['buffer'] = gdf['geometry'].buffer(500)\n",
    "log('buffered geometries')"
   ]
  },
  {
   "cell_type": "markdown",
   "metadata": {},
   "source": [
    "## 3) Sum values of all rows within each row's buffered distance"
   ]
  },
  {
   "cell_type": "code",
   "execution_count": 8,
   "metadata": {
    "collapsed": true
   },
   "outputs": [],
   "source": [
    "def summarize(buffer):\n",
    "    possible_matches_index = list(sidx.intersection(buffer.bounds))\n",
    "    possible_matches = gdf.iloc[possible_matches_index]\n",
    "    precise_matches = possible_matches[possible_matches.intersects(buffer)]\n",
    "    return precise_matches['value'].sum()"
   ]
  },
  {
   "cell_type": "code",
   "execution_count": 9,
   "metadata": {
    "collapsed": false
   },
   "outputs": [
    {
     "name": "stdout",
     "output_type": "stream",
     "text": [
      "79.330s: calculated value sums\n"
     ]
    }
   ],
   "source": [
    "sums = gdf['buffer'].map(summarize)\n",
    "sums.name = 'value sum'\n",
    "log('calculated value sums')"
   ]
  },
  {
   "cell_type": "code",
   "execution_count": 10,
   "metadata": {
    "collapsed": false
   },
   "outputs": [
    {
     "data": {
      "text/plain": [
       "id\n",
       "14856    10319.032630\n",
       "8716        32.595417\n",
       "661          3.991619\n",
       "709         14.131560\n",
       "717         32.533223\n",
       "Name: value sum, dtype: float64"
      ]
     },
     "execution_count": 10,
     "metadata": {},
     "output_type": "execute_result"
    }
   ],
   "source": [
    "sums.head()"
   ]
  },
  {
   "cell_type": "markdown",
   "metadata": {},
   "source": [
    "The algorithm calculated 29,873 rows in 79.3 seconds -- that's about 2.7 milliseconds per row."
   ]
  },
  {
   "cell_type": "code",
   "execution_count": null,
   "metadata": {
    "collapsed": true
   },
   "outputs": [],
   "source": []
  }
 ],
 "metadata": {
  "anaconda-cloud": {},
  "kernelspec": {
   "display_name": "Python [conda root]",
   "language": "python",
   "name": "conda-root-py"
  },
  "language_info": {
   "codemirror_mode": {
    "name": "ipython",
    "version": 3
   },
   "file_extension": ".py",
   "mimetype": "text/x-python",
   "name": "python",
   "nbconvert_exporter": "python",
   "pygments_lexer": "ipython3",
   "version": "3.5.3"
  }
 },
 "nbformat": 4,
 "nbformat_minor": 2
}
